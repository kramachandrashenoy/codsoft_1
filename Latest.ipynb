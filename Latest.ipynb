{
 "cells": [
  {
   "cell_type": "markdown",
   "id": "6e71dc1b",
   "metadata": {},
   "source": [
    "# MOVIE GENRE CLASSIFICATION "
   ]
  },
  {
   "cell_type": "markdown",
   "id": "ce036b17",
   "metadata": {},
   "source": [
    "# Problem Statement"
   ]
  },
  {
   "cell_type": "markdown",
   "id": "49ebbf23",
   "metadata": {},
   "source": [
    "Create a machine learning model that can predict the genre of amovie based on its plot summary or other textual information. Youcan use techniques like TF-IDF or word embeddings with classifierssuch as Naive Bayes, Logistic Regression, or Support VectorMachines."
   ]
  },
  {
   "cell_type": "markdown",
   "id": "a5c98682",
   "metadata": {},
   "source": [
    "# Import the libraries"
   ]
  },
  {
   "cell_type": "code",
   "execution_count": 1,
   "id": "06a0c0c2",
   "metadata": {},
   "outputs": [],
   "source": [
    "import pandas as pd\n",
    "from sklearn.model_selection import train_test_split\n",
    "from sklearn.feature_extraction.text import TfidfVectorizer\n",
    "from sklearn.naive_bayes import MultinomialNB\n",
    "from sklearn.metrics import accuracy_score, classification_report"
   ]
  },
  {
   "cell_type": "markdown",
   "id": "3a3df3b7",
   "metadata": {},
   "source": [
    "# Import the dataset"
   ]
  },
  {
   "cell_type": "code",
   "execution_count": 2,
   "id": "0830026c",
   "metadata": {},
   "outputs": [],
   "source": [
    "import pandas as pd\n",
    "df=pd.read_csv('outputr.csv',encoding='ISO-8859-1')"
   ]
  },
  {
   "cell_type": "code",
   "execution_count": 3,
   "id": "6bc4399a",
   "metadata": {},
   "outputs": [
    {
     "data": {
      "text/html": [
       "<div>\n",
       "<style scoped>\n",
       "    .dataframe tbody tr th:only-of-type {\n",
       "        vertical-align: middle;\n",
       "    }\n",
       "\n",
       "    .dataframe tbody tr th {\n",
       "        vertical-align: top;\n",
       "    }\n",
       "\n",
       "    .dataframe thead th {\n",
       "        text-align: right;\n",
       "    }\n",
       "</style>\n",
       "<table border=\"1\" class=\"dataframe\">\n",
       "  <thead>\n",
       "    <tr style=\"text-align: right;\">\n",
       "      <th></th>\n",
       "      <th>Sl No</th>\n",
       "      <th>Movie Name</th>\n",
       "      <th>Genre</th>\n",
       "      <th>Description</th>\n",
       "    </tr>\n",
       "  </thead>\n",
       "  <tbody>\n",
       "    <tr>\n",
       "      <th>0</th>\n",
       "      <td>1</td>\n",
       "      <td>Oscar et la dame rose (2009)</td>\n",
       "      <td>drama</td>\n",
       "      <td>Listening in to a conversation between his do...</td>\n",
       "    </tr>\n",
       "    <tr>\n",
       "      <th>1</th>\n",
       "      <td>2</td>\n",
       "      <td>Cupid (1997)</td>\n",
       "      <td>thriller</td>\n",
       "      <td>A brother and sister with a past incestuous r...</td>\n",
       "    </tr>\n",
       "    <tr>\n",
       "      <th>2</th>\n",
       "      <td>3</td>\n",
       "      <td>Young, Wild and Wonderful (1980)</td>\n",
       "      <td>adult</td>\n",
       "      <td>As the bus empties the students for their fie...</td>\n",
       "    </tr>\n",
       "    <tr>\n",
       "      <th>3</th>\n",
       "      <td>4</td>\n",
       "      <td>The Secret Sin (1915)</td>\n",
       "      <td>drama</td>\n",
       "      <td>To help their unemployed father make ends mee...</td>\n",
       "    </tr>\n",
       "    <tr>\n",
       "      <th>4</th>\n",
       "      <td>5</td>\n",
       "      <td>The Unrecovered (2007)</td>\n",
       "      <td>drama</td>\n",
       "      <td>The film's title refers not only to the un-re...</td>\n",
       "    </tr>\n",
       "  </tbody>\n",
       "</table>\n",
       "</div>"
      ],
      "text/plain": [
       "   Sl No                          Movie Name       Genre  \\\n",
       "0      1       Oscar et la dame rose (2009)       drama    \n",
       "1      2                       Cupid (1997)    thriller    \n",
       "2      3   Young, Wild and Wonderful (1980)       adult    \n",
       "3      4              The Secret Sin (1915)       drama    \n",
       "4      5             The Unrecovered (2007)       drama    \n",
       "\n",
       "                                         Description  \n",
       "0   Listening in to a conversation between his do...  \n",
       "1   A brother and sister with a past incestuous r...  \n",
       "2   As the bus empties the students for their fie...  \n",
       "3   To help their unemployed father make ends mee...  \n",
       "4   The film's title refers not only to the un-re...  "
      ]
     },
     "execution_count": 3,
     "metadata": {},
     "output_type": "execute_result"
    }
   ],
   "source": [
    "df.head(5)"
   ]
  },
  {
   "cell_type": "markdown",
   "id": "a61c33f1",
   "metadata": {},
   "source": [
    "# Split the data"
   ]
  },
  {
   "cell_type": "code",
   "execution_count": 10,
   "id": "c6118372",
   "metadata": {},
   "outputs": [],
   "source": [
    "train_data, test_data, train_labels, test_labels = train_test_split(\n",
    "    df['Description'], df['Genre'], test_size=0.2, random_state=0\n",
    ")"
   ]
  },
  {
   "cell_type": "markdown",
   "id": "ddebd26d",
   "metadata": {},
   "source": [
    "# Tf-Idf Vectorizer"
   ]
  },
  {
   "cell_type": "code",
   "execution_count": 11,
   "id": "f37af069",
   "metadata": {},
   "outputs": [],
   "source": [
    "tfidf_vectorizer = TfidfVectorizer(max_features=5000, stop_words='english')\n",
    "tfidf_train = tfidf_vectorizer.fit_transform(train_data)\n",
    "tfidf_test = tfidf_vectorizer.transform(test_data)"
   ]
  },
  {
   "cell_type": "markdown",
   "id": "f27b49c1",
   "metadata": {},
   "source": [
    "# Naive Bayes "
   ]
  },
  {
   "cell_type": "code",
   "execution_count": 12,
   "id": "f4054e1a",
   "metadata": {},
   "outputs": [
    {
     "data": {
      "text/plain": [
       "MultinomialNB()"
      ]
     },
     "execution_count": 12,
     "metadata": {},
     "output_type": "execute_result"
    }
   ],
   "source": [
    "nb_model = MultinomialNB()\n",
    "nb_model.fit(tfidf_train, train_labels)\n"
   ]
  },
  {
   "cell_type": "markdown",
   "id": "ab60fd23",
   "metadata": {},
   "source": [
    "# Evaluation of the model"
   ]
  },
  {
   "cell_type": "code",
   "execution_count": 13,
   "id": "85e27f1b",
   "metadata": {},
   "outputs": [],
   "source": [
    "predictions = nb_model.predict(tfidf_test)"
   ]
  },
  {
   "cell_type": "code",
   "execution_count": 14,
   "id": "d3ec1ba8",
   "metadata": {},
   "outputs": [
    {
     "name": "stderr",
     "output_type": "stream",
     "text": [
      "C:\\Users\\Ramachandra\\anaconda3\\lib\\site-packages\\sklearn\\metrics\\_classification.py:1318: UndefinedMetricWarning: Precision and F-score are ill-defined and being set to 0.0 in labels with no predicted samples. Use `zero_division` parameter to control this behavior.\n",
      "  _warn_prf(average, modifier, msg_start, len(result))\n",
      "C:\\Users\\Ramachandra\\anaconda3\\lib\\site-packages\\sklearn\\metrics\\_classification.py:1318: UndefinedMetricWarning: Precision and F-score are ill-defined and being set to 0.0 in labels with no predicted samples. Use `zero_division` parameter to control this behavior.\n",
      "  _warn_prf(average, modifier, msg_start, len(result))\n",
      "C:\\Users\\Ramachandra\\anaconda3\\lib\\site-packages\\sklearn\\metrics\\_classification.py:1318: UndefinedMetricWarning: Precision and F-score are ill-defined and being set to 0.0 in labels with no predicted samples. Use `zero_division` parameter to control this behavior.\n",
      "  _warn_prf(average, modifier, msg_start, len(result))\n"
     ]
    }
   ],
   "source": [
    "accuracy = accuracy_score(test_labels, predictions)\n",
    "classification_rep = classification_report(test_labels, predictions)"
   ]
  },
  {
   "cell_type": "code",
   "execution_count": 15,
   "id": "2b7541f4",
   "metadata": {},
   "outputs": [
    {
     "name": "stdout",
     "output_type": "stream",
     "text": [
      "Accuracy: 0.5247625195978972\n",
      "Classification Report:\n",
      "                precision    recall  f1-score   support\n",
      "\n",
      "      action        0.58      0.08      0.15       248\n",
      "       adult        0.50      0.04      0.07       110\n",
      "   adventure        0.73      0.05      0.10       150\n",
      "   animation        0.00      0.00      0.00       107\n",
      "   biography        0.00      0.00      0.00        52\n",
      "      comedy        0.53      0.45      0.49      1497\n",
      "       crime        0.00      0.00      0.00        90\n",
      " documentary        0.56      0.88      0.69      2586\n",
      "       drama        0.47      0.83      0.60      2773\n",
      "      family        1.00      0.01      0.01       164\n",
      "     fantasy        0.00      0.00      0.00        67\n",
      "   game-show        1.00      0.24      0.39        33\n",
      "     history        0.00      0.00      0.00        47\n",
      "      horror        0.74      0.37      0.49       424\n",
      "       music        0.88      0.09      0.17       163\n",
      "     musical        0.00      0.00      0.00        56\n",
      "     mystery        0.00      0.00      0.00        55\n",
      "        news        0.00      0.00      0.00        32\n",
      "  reality-tv        0.00      0.00      0.00       157\n",
      "     romance        0.00      0.00      0.00       121\n",
      "      sci-fi        0.86      0.04      0.08       139\n",
      "       short        0.60      0.10      0.17      1050\n",
      "       sport        0.78      0.07      0.14        94\n",
      "   talk-show        0.00      0.00      0.00        81\n",
      "    thriller        0.64      0.02      0.04       324\n",
      "         war        0.00      0.00      0.00        26\n",
      "     western        0.96      0.54      0.69       197\n",
      "\n",
      "     accuracy                           0.52     10843\n",
      "    macro avg       0.40      0.14      0.16     10843\n",
      " weighted avg       0.53      0.52      0.44     10843\n",
      "\n"
     ]
    }
   ],
   "source": [
    "\n",
    "print(f'Accuracy: {accuracy}')\n",
    "print('Classification Report:\\n', classification_rep)"
   ]
  },
  {
   "cell_type": "code",
   "execution_count": null,
   "id": "0b1035e6",
   "metadata": {},
   "outputs": [],
   "source": []
  }
 ],
 "metadata": {
  "kernelspec": {
   "display_name": "Python 3 (ipykernel)",
   "language": "python",
   "name": "python3"
  },
  "language_info": {
   "codemirror_mode": {
    "name": "ipython",
    "version": 3
   },
   "file_extension": ".py",
   "mimetype": "text/x-python",
   "name": "python",
   "nbconvert_exporter": "python",
   "pygments_lexer": "ipython3",
   "version": "3.9.13"
  }
 },
 "nbformat": 4,
 "nbformat_minor": 5
}
